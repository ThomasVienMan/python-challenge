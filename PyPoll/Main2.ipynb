{
 "cells": [
  {
   "cell_type": "code",
   "execution_count": 1,
   "metadata": {},
   "outputs": [],
   "source": [
    "import os\n",
    "import csv\n",
    "import numpy as np\n",
    "\n",
    "csvpath = os.path.join('election_data.csv')\n"
   ]
  },
  {
   "cell_type": "code",
   "execution_count": 13,
   "metadata": {},
   "outputs": [
    {
     "name": "stdout",
     "output_type": "stream",
     "text": [
      "Election Results\n",
      "----------------------------\n",
      "Total Votes: 3521001\n",
      "Khan: 63.0% (2218231)\n",
      "Correy: 20.0% (704200)\n",
      "Li: 14.0% (492940)\n",
      "O'Tooley: 3.0% (105630)\n",
      "----------------------------\n",
      "Winner: Khan\n"
     ]
    }
   ],
   "source": [
    "with open(csvpath, newline='') as csvfile:\n",
    "\n",
    "    # CSV reader specifies delimiter and variable that holds contents\n",
    "    csvreader = csv.reader(csvfile, delimiter=',')\n",
    "\n",
    "\n",
    "    # Read the header row first (skip this step if there is now header)\n",
    "    csv_header = next(csvreader)\n",
    "    #print(f\"CSV Header: {csv_header}\")\n",
    "    \n",
    "    \n",
    "    \n",
    "    total = 0\n",
    "    row_count = 0\n",
    "    vote_list = []\n",
    "    khan_count = 0\n",
    "    correy_count = 0\n",
    "    li_count = 0\n",
    "    Otooley_count = 0\n",
    "    for row in csvreader:\n",
    "        vote_list.append(row)\n",
    "        if row[2] == \"Khan\":\n",
    "            khan_count = khan_count + 1\n",
    "        if row[2] == \"Correy\":\n",
    "            correy_count = correy_count + 1\n",
    "        if row[2] == \"Li\":\n",
    "            li_count = li_count + 1\n",
    "        if row[2] == \"O'Tooley\":\n",
    "            Otooley_count = Otooley_count + 1\n",
    "        #print(row[2])\n",
    "        \n",
    "    print(\"Election Results\")\n",
    "    print(\"----------------------------\")\n",
    "    print(\"Total Votes: \" + str(len(vote_list)))\n",
    "    k_total = khan_count / len(vote_list)\n",
    "    print(\"Khan: \" + \"{:.1%}\".format(k_total) +\" (\" + str(khan_count) + \")\")\n",
    "    c_total = correy_count / len(vote_list)\n",
    "    print(\"Correy: \" + \"{:.1%}\".format(c_total) +\" (\" + str(correy_count) + \")\")\n",
    "    l_total = li_count / len(vote_list)\n",
    "    print(\"Li: \" + \"{:.1%}\".format(l_total) +\" (\" + str(li_count) + \")\")\n",
    "    o_total = Otooley_count/ len(vote_list)\n",
    "    print(\"O'Tooley: \" + \"{:.1%}\".format(o_total) +\" (\" + str(Otooley_count) + \")\")\n",
    "    print(\"----------------------------\")\n",
    "    if khan_count > correy_count and li_count and Otooley_count:\n",
    "        print(\"Winner: Khan\")\n",
    "    elif correy_count > khan_count and li_count and Otooley_count:\n",
    "        print(\"Winner: Correy\")\n",
    "    elif li_count > correy_count and khan_count and Otooley_count:    \n",
    "        print(\"Winner: Li\")\n",
    "    else:\n",
    "        print(\"Winner: O'tooley\")"
   ]
  },
  {
   "cell_type": "code",
   "execution_count": null,
   "metadata": {},
   "outputs": [],
   "source": []
  }
 ],
 "metadata": {
  "kernelspec": {
   "display_name": "Python 3",
   "language": "python",
   "name": "python3"
  }
 },
 "nbformat": 4,
 "nbformat_minor": 2
}
