{
 "cells": [
  {
   "cell_type": "code",
   "execution_count": 1,
   "metadata": {},
   "outputs": [],
   "source": [
    "import os\n",
    "import csv\n",
    "import numpy as np\n",
    "\n",
    "csvpath = os.path.join('budget_data.csv')\n"
   ]
  },
  {
   "cell_type": "code",
   "execution_count": 10,
   "metadata": {
    "scrolled": false
   },
   "outputs": [
    {
     "name": "stdout",
     "output_type": "stream",
     "text": [
      "Financial Analysis\n",
      "----------------------------\n",
      "Total Months: 86\n",
      "Total: $38382578\n",
      "Average  Change: $-6269.047058823529\n",
      "Greatest Increase in Profits: 1926159\n",
      "Greatest Decrease in Profits: -2196167\n"
     ]
    }
   ],
   "source": [
    "\n",
    "with open(csvpath, newline='') as csvfile:\n",
    "\n",
    "    # CSV reader specifies delimiter and variable that holds contents\n",
    "    csvreader = csv.reader(csvfile, delimiter=',')\n",
    "\n",
    "\n",
    "    # Read the header row first (skip this step if there is now header)\n",
    "    csv_header = next(csvreader)\n",
    "    #print(f\"CSV Header: {csv_header}\")\n",
    "    \n",
    "    \n",
    "    \n",
    "    total = 0\n",
    "    row_count = 0\n",
    "    compare_list = []\n",
    "    for row in csvreader:\n",
    "        total= total + int(row[1])\n",
    "        row_count = row_count + 1\n",
    "        compare_list.append(row[1])\n",
    "        difference = int(row[1])\n",
    "       #print(compare_list)\n",
    "    \n",
    "    print(\"Financial Analysis\")\n",
    "    print(\"----------------------------\")\n",
    "    print(\"Total Months: \" + str(row_count))\n",
    "    print(\"Total: $\" + str(total))\n",
    "    \n",
    "    row_count = 0\n",
    "    total = 0\n",
    "    difference_list = []\n",
    "    for n in compare_list:\n",
    "        difference = int(compare_list[row_count])-int(compare_list[row_count-1])\n",
    "        difference_list.append(difference)\n",
    "        if row_count == len(compare_list) - 1:\n",
    "            break\n",
    "        row_count = row_count + 1\n",
    "        total = total + difference\n",
    "        \n",
    "        \n",
    "    \n",
    "    print(\"Average  Change: $\" + str(total / row_count))\n",
    "    print(\"Greatest Increase in Profits: \" + str(max(difference_list)))\n",
    "    print(\"Greatest Decrease in Profits: \" + str(min(difference_list)))\n",
    "        \n",
    "        \n",
    " \n",
    "    \n",
    "        \n"
   ]
  },
  {
   "cell_type": "code",
   "execution_count": null,
   "metadata": {},
   "outputs": [],
   "source": [
    "    \n"
   ]
  },
  {
   "cell_type": "code",
   "execution_count": null,
   "metadata": {},
   "outputs": [],
   "source": []
  }
 ],
 "metadata": {
  "kernelspec": {
   "display_name": "Python 3",
   "language": "python",
   "name": "python3"
  },
  "language_info": {
   "codemirror_mode": {
    "name": "ipython",
    "version": 3
   },
   "file_extension": ".py",
   "mimetype": "text/x-python",
   "name": "python",
   "nbconvert_exporter": "python",
   "pygments_lexer": "ipython3",
   "version": "3.7.1"
  }
 },
 "nbformat": 4,
 "nbformat_minor": 2
}
